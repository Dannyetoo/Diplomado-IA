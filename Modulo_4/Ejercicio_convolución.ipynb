{
 "cells": [
  {
   "cell_type": "code",
   "execution_count": 2,
   "metadata": {},
   "outputs": [
    {
     "data": {
      "text/plain": [
       "array([[-123,  -57,   31,   18,    4,   -3],\n",
       "       [-134, -108,  -13,   13,    6,    0],\n",
       "       [-113, -135,  -71,   -8,    4,    0],\n",
       "       [ -70, -119, -116,  -47,  -15,   -6],\n",
       "       [ -30,  -72, -118,  -96,  -65,  -24],\n",
       "       [ -11,  -39,  -85, -115, -114,  -54]])"
      ]
     },
     "execution_count": 2,
     "metadata": {},
     "output_type": "execute_result"
    }
   ],
   "source": [
    "import numpy as np\n",
    "from scipy.signal import convolve2d\n",
    "\n",
    "# Matriz de datos\n",
    "data = np.array([\n",
    "    [111,  97,  87,  99, 102, 102, 103, 100],\n",
    "    [132, 109,  85,  92, 101, 101, 102, 101],\n",
    "    [153, 138, 101,  96, 101, 102, 103, 101],\n",
    "    [165, 154, 130, 105, 101, 103, 104, 104],\n",
    "    [173, 161, 147, 117, 105, 105, 104, 105],\n",
    "    [174, 167, 165, 141, 120, 108, 103, 101],\n",
    "    [175, 172, 180, 170, 149, 119, 102, 102],\n",
    "    [184, 181, 177, 170, 168, 139, 118, 109]\n",
    "])\n",
    "\n",
    "# Kernel de convolución\n",
    "kernel = np.array([\n",
    "    [ 1,  0, -1],\n",
    "    [ 1,  0, -1],\n",
    "    [ 1,  0, -1]\n",
    "])\n",
    "\n",
    "# Realizar la convolución\n",
    "result = convolve2d(data, kernel, mode='valid')\n",
    "\n",
    "result"
   ]
  }
 ],
 "metadata": {
  "kernelspec": {
   "display_name": "Diplomado",
   "language": "python",
   "name": "python3"
  },
  "language_info": {
   "codemirror_mode": {
    "name": "ipython",
    "version": 3
   },
   "file_extension": ".py",
   "mimetype": "text/x-python",
   "name": "python",
   "nbconvert_exporter": "python",
   "pygments_lexer": "ipython3",
   "version": "3.10.14"
  }
 },
 "nbformat": 4,
 "nbformat_minor": 2
}
