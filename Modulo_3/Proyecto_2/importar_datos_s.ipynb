{
 "cells": [
  {
   "cell_type": "markdown",
   "metadata": {},
   "source": [
    "# Índice de Calidad del Aire"
   ]
  },
  {
   "cell_type": "code",
   "execution_count": 1,
   "metadata": {},
   "outputs": [],
   "source": [
    "import pandas as pd\n",
    "import numpy as np\n",
    "import os\n",
    "import matplotlib.pyplot as plt\n"
   ]
  },
  {
   "cell_type": "code",
   "execution_count": 2,
   "metadata": {},
   "outputs": [],
   "source": [
    "carpeta = r'./Original_dataset'"
   ]
  },
  {
   "cell_type": "code",
   "execution_count": 6,
   "metadata": {},
   "outputs": [
    {
     "ename": "KeyError",
     "evalue": "\"['NoroestePM10', 'Noroestemonóxido de carbono', 'NorestePM10', 'Norestemonóxido de carbono', 'CentroPM10', 'Centromonóxido de carbono', 'SuroestePM10', 'Suroestemonóxido de carbono', 'SurestePM10', 'Surestemonóxido de carbono'] not in index\"",
     "output_type": "error",
     "traceback": [
      "\u001b[1;31m---------------------------------------------------------------------------\u001b[0m",
      "\u001b[1;31mKeyError\u001b[0m                                  Traceback (most recent call last)",
      "Cell \u001b[1;32mIn[6], line 10\u001b[0m\n\u001b[0;32m      8\u001b[0m     columnas_primarias\u001b[38;5;241m.\u001b[39mappend(\u001b[38;5;124mf\u001b[39m\u001b[38;5;124m'\u001b[39m\u001b[38;5;132;01m{\u001b[39;00mzona\u001b[38;5;132;01m}\u001b[39;00m\u001b[38;5;124mPM10\u001b[39m\u001b[38;5;124m'\u001b[39m)\n\u001b[0;32m      9\u001b[0m     columnas_primarias\u001b[38;5;241m.\u001b[39mappend(\u001b[38;5;124mf\u001b[39m\u001b[38;5;124m'\u001b[39m\u001b[38;5;132;01m{\u001b[39;00mzona\u001b[38;5;132;01m}\u001b[39;00m\u001b[38;5;124mmonóxido de carbono\u001b[39m\u001b[38;5;124m'\u001b[39m)\n\u001b[1;32m---> 10\u001b[0m df_interes \u001b[38;5;241m=\u001b[39m \u001b[43mdf\u001b[49m\u001b[43m[\u001b[49m\u001b[43mcolumnas_primarias\u001b[49m\u001b[43m]\u001b[49m\n\u001b[0;32m     11\u001b[0m dataframes\u001b[38;5;241m.\u001b[39mappend(df_interes)\n\u001b[0;32m     13\u001b[0m df_comb \u001b[38;5;241m=\u001b[39m pd\u001b[38;5;241m.\u001b[39mconcat(dataframes, ifnore_index\u001b[38;5;241m=\u001b[39m\u001b[38;5;28;01mTrue\u001b[39;00m,axis\u001b[38;5;241m=\u001b[39m\u001b[38;5;241m0\u001b[39m)\n",
      "File \u001b[1;32mc:\\Users\\usuario\\anaconda3\\envs\\Diplomado\\lib\\site-packages\\pandas\\core\\frame.py:4108\u001b[0m, in \u001b[0;36mDataFrame.__getitem__\u001b[1;34m(self, key)\u001b[0m\n\u001b[0;32m   4106\u001b[0m     \u001b[38;5;28;01mif\u001b[39;00m is_iterator(key):\n\u001b[0;32m   4107\u001b[0m         key \u001b[38;5;241m=\u001b[39m \u001b[38;5;28mlist\u001b[39m(key)\n\u001b[1;32m-> 4108\u001b[0m     indexer \u001b[38;5;241m=\u001b[39m \u001b[38;5;28;43mself\u001b[39;49m\u001b[38;5;241;43m.\u001b[39;49m\u001b[43mcolumns\u001b[49m\u001b[38;5;241;43m.\u001b[39;49m\u001b[43m_get_indexer_strict\u001b[49m\u001b[43m(\u001b[49m\u001b[43mkey\u001b[49m\u001b[43m,\u001b[49m\u001b[43m \u001b[49m\u001b[38;5;124;43m\"\u001b[39;49m\u001b[38;5;124;43mcolumns\u001b[39;49m\u001b[38;5;124;43m\"\u001b[39;49m\u001b[43m)\u001b[49m[\u001b[38;5;241m1\u001b[39m]\n\u001b[0;32m   4110\u001b[0m \u001b[38;5;66;03m# take() does not accept boolean indexers\u001b[39;00m\n\u001b[0;32m   4111\u001b[0m \u001b[38;5;28;01mif\u001b[39;00m \u001b[38;5;28mgetattr\u001b[39m(indexer, \u001b[38;5;124m\"\u001b[39m\u001b[38;5;124mdtype\u001b[39m\u001b[38;5;124m\"\u001b[39m, \u001b[38;5;28;01mNone\u001b[39;00m) \u001b[38;5;241m==\u001b[39m \u001b[38;5;28mbool\u001b[39m:\n",
      "File \u001b[1;32mc:\\Users\\usuario\\anaconda3\\envs\\Diplomado\\lib\\site-packages\\pandas\\core\\indexes\\base.py:6200\u001b[0m, in \u001b[0;36mIndex._get_indexer_strict\u001b[1;34m(self, key, axis_name)\u001b[0m\n\u001b[0;32m   6197\u001b[0m \u001b[38;5;28;01melse\u001b[39;00m:\n\u001b[0;32m   6198\u001b[0m     keyarr, indexer, new_indexer \u001b[38;5;241m=\u001b[39m \u001b[38;5;28mself\u001b[39m\u001b[38;5;241m.\u001b[39m_reindex_non_unique(keyarr)\n\u001b[1;32m-> 6200\u001b[0m \u001b[38;5;28;43mself\u001b[39;49m\u001b[38;5;241;43m.\u001b[39;49m\u001b[43m_raise_if_missing\u001b[49m\u001b[43m(\u001b[49m\u001b[43mkeyarr\u001b[49m\u001b[43m,\u001b[49m\u001b[43m \u001b[49m\u001b[43mindexer\u001b[49m\u001b[43m,\u001b[49m\u001b[43m \u001b[49m\u001b[43maxis_name\u001b[49m\u001b[43m)\u001b[49m\n\u001b[0;32m   6202\u001b[0m keyarr \u001b[38;5;241m=\u001b[39m \u001b[38;5;28mself\u001b[39m\u001b[38;5;241m.\u001b[39mtake(indexer)\n\u001b[0;32m   6203\u001b[0m \u001b[38;5;28;01mif\u001b[39;00m \u001b[38;5;28misinstance\u001b[39m(key, Index):\n\u001b[0;32m   6204\u001b[0m     \u001b[38;5;66;03m# GH 42790 - Preserve name from an Index\u001b[39;00m\n",
      "File \u001b[1;32mc:\\Users\\usuario\\anaconda3\\envs\\Diplomado\\lib\\site-packages\\pandas\\core\\indexes\\base.py:6252\u001b[0m, in \u001b[0;36mIndex._raise_if_missing\u001b[1;34m(self, key, indexer, axis_name)\u001b[0m\n\u001b[0;32m   6249\u001b[0m     \u001b[38;5;28;01mraise\u001b[39;00m \u001b[38;5;167;01mKeyError\u001b[39;00m(\u001b[38;5;124mf\u001b[39m\u001b[38;5;124m\"\u001b[39m\u001b[38;5;124mNone of [\u001b[39m\u001b[38;5;132;01m{\u001b[39;00mkey\u001b[38;5;132;01m}\u001b[39;00m\u001b[38;5;124m] are in the [\u001b[39m\u001b[38;5;132;01m{\u001b[39;00maxis_name\u001b[38;5;132;01m}\u001b[39;00m\u001b[38;5;124m]\u001b[39m\u001b[38;5;124m\"\u001b[39m)\n\u001b[0;32m   6251\u001b[0m not_found \u001b[38;5;241m=\u001b[39m \u001b[38;5;28mlist\u001b[39m(ensure_index(key)[missing_mask\u001b[38;5;241m.\u001b[39mnonzero()[\u001b[38;5;241m0\u001b[39m]]\u001b[38;5;241m.\u001b[39munique())\n\u001b[1;32m-> 6252\u001b[0m \u001b[38;5;28;01mraise\u001b[39;00m \u001b[38;5;167;01mKeyError\u001b[39;00m(\u001b[38;5;124mf\u001b[39m\u001b[38;5;124m\"\u001b[39m\u001b[38;5;132;01m{\u001b[39;00mnot_found\u001b[38;5;132;01m}\u001b[39;00m\u001b[38;5;124m not in index\u001b[39m\u001b[38;5;124m\"\u001b[39m)\n",
      "\u001b[1;31mKeyError\u001b[0m: \"['NoroestePM10', 'Noroestemonóxido de carbono', 'NorestePM10', 'Norestemonóxido de carbono', 'CentroPM10', 'Centromonóxido de carbono', 'SuroestePM10', 'Suroestemonóxido de carbono', 'SurestePM10', 'Surestemonóxido de carbono'] not in index\""
     ]
    }
   ],
   "source": [
    "dataframes = []\n",
    "\n",
    "for archivo in os.listdir(carpeta):\n",
    "    df = pd.read_csv(carpeta + '/'+ archivo)\n",
    "    columnas_primarias = ['Fecha','Hora']\n",
    "    zonas = ['Noroeste','Noreste','Centro','Suroeste','Sureste']\n",
    "    for zona in zonas:\n",
    "        columnas_primarias.append(f'{zona}PM10')\n",
    "        columnas_primarias.append(f'{zona}monóxido de carbono')\n",
    "    df_interes = df[columnas_primarias]\n",
    "    dataframes.append(df_interes)\n",
    "\n",
    "    df_comb = pd.concat(dataframes, ifnore_index=True,axis=0)\n",
    "    df_comb.to_csv('Combinado.csv',index=False)"
   ]
  },
  {
   "cell_type": "code",
   "execution_count": null,
   "metadata": {},
   "outputs": [],
   "source": [
    "df = pd.read_csv('Combinado.csv')"
   ]
  },
  {
   "cell_type": "code",
   "execution_count": 8,
   "metadata": {},
   "outputs": [
    {
     "data": {
      "text/plain": [
       "<bound method NDFrame.describe of            Fecha  Hora  Noroeste Ozono  Noroeste dióxido de azufre  \\\n",
       "0     01/01/2016     1               5                          18   \n",
       "1     01/01/2016     2               5                          18   \n",
       "2     01/01/2016     3               3                          18   \n",
       "3     01/01/2016     4               3                          18   \n",
       "4     01/01/2016     5               2                          19   \n",
       "...          ...   ...             ...                         ...   \n",
       "8779  31/12/2016    20              18                          25   \n",
       "8780  31/12/2016    21              18                          25   \n",
       "8781  31/12/2016    22              16                          25   \n",
       "8782  31/12/2016    23              13                          24   \n",
       "8783  31/12/2016    24              11                          22   \n",
       "\n",
       "      Noroeste dióxido de nitrógeno  Noroeste monóxido de carbono  \\\n",
       "0                                23                            13   \n",
       "1                                22                            13   \n",
       "2                                24                            14   \n",
       "3                                22                            14   \n",
       "4                                20                            15   \n",
       "...                             ...                           ...   \n",
       "8779                             20                             7   \n",
       "8780                             18                             7   \n",
       "8781                             19                             7   \n",
       "8782                             19                             9   \n",
       "8783                             19                            11   \n",
       "\n",
       "      Noroeste PM10  Noreste Ozono  Noreste dióxido de azufre  \\\n",
       "0               108             11                          8   \n",
       "1               110              6                          9   \n",
       "2               113              3                         12   \n",
       "3               115              3                         15   \n",
       "4               116              3                         18   \n",
       "...             ...            ...                        ...   \n",
       "8779             77             31                         11   \n",
       "8780             76             30                         11   \n",
       "8781             74             28                         11   \n",
       "8782             74             26                          9   \n",
       "8783             76             19                          6   \n",
       "\n",
       "      Noreste dióxido de nitrógeno  ...  Suroeste dióxido de nitrógeno  \\\n",
       "0                               28  ...                             26   \n",
       "1                               25  ...                             26   \n",
       "2                               23  ...                             23   \n",
       "3                               22  ...                             22   \n",
       "4                               20  ...                             21   \n",
       "...                            ...  ...                            ...   \n",
       "8779                            20  ...                             14   \n",
       "8780                            22  ...                             13   \n",
       "8781                            27  ...                             16   \n",
       "8782                            26  ...                             14   \n",
       "8783                            24  ...                             20   \n",
       "\n",
       "      Suroeste monóxido de carbono  Suroeste PM10  Sureste Ozono  \\\n",
       "0                                9             67             21   \n",
       "1                                9             70              9   \n",
       "2                               10             76              6   \n",
       "3                               10             83             11   \n",
       "4                               11             90              6   \n",
       "...                            ...            ...            ...   \n",
       "8779                             5             39             36   \n",
       "8780                             5             38             34   \n",
       "8781                             5             38             29   \n",
       "8782                             5             38             27   \n",
       "8783                             5             38             28   \n",
       "\n",
       "      Sureste dióxido de azufre  Sureste dióxido de nitrógeno  \\\n",
       "0                             3                            28   \n",
       "1                             3                            26   \n",
       "2                             4                            23   \n",
       "3                             5                            22   \n",
       "4                             6                            22   \n",
       "...                         ...                           ...   \n",
       "8779                          2                            10   \n",
       "8780                          2                            15   \n",
       "8781                          2                            20   \n",
       "8782                          2                            20   \n",
       "8783                          2                            21   \n",
       "\n",
       "      Sureste monóxido de carbono  Sureste PM10  Unnamed: 27  Unnamed: 28  \n",
       "0                              11           107          NaN          NaN  \n",
       "1                              12           107          NaN          NaN  \n",
       "2                              13           108          NaN          NaN  \n",
       "3                              14           107          NaN          NaN  \n",
       "4                              14           108          NaN          NaN  \n",
       "...                           ...           ...          ...          ...  \n",
       "8779                            4            63          NaN          NaN  \n",
       "8780                            5            61          NaN          NaN  \n",
       "8781                            5            61          NaN          NaN  \n",
       "8782                            6            61          NaN          NaN  \n",
       "8783                            8            61          NaN          NaN  \n",
       "\n",
       "[8784 rows x 29 columns]>"
      ]
     },
     "execution_count": 8,
     "metadata": {},
     "output_type": "execute_result"
    }
   ],
   "source": [
    "df.describe"
   ]
  },
  {
   "cell_type": "code",
   "execution_count": 10,
   "metadata": {},
   "outputs": [
    {
     "ename": "NameError",
     "evalue": "name 'pdf' is not defined",
     "output_type": "error",
     "traceback": [
      "\u001b[1;31m---------------------------------------------------------------------------\u001b[0m",
      "\u001b[1;31mNameError\u001b[0m                                 Traceback (most recent call last)",
      "Cell \u001b[1;32mIn[10], line 4\u001b[0m\n\u001b[0;32m      1\u001b[0m df\u001b[38;5;241m.\u001b[39mreplace(\u001b[38;5;241m-\u001b[39m\u001b[38;5;241m99\u001b[39m,np\u001b[38;5;241m.\u001b[39mnan,inplace\u001b[38;5;241m=\u001b[39m\u001b[38;5;28;01mTrue\u001b[39;00m)\n\u001b[0;32m      3\u001b[0m \u001b[38;5;28;01mfor\u001b[39;00m col \u001b[38;5;129;01min\u001b[39;00m df\u001b[38;5;241m.\u001b[39mcolumns[\u001b[38;5;241m1\u001b[39m:]:\n\u001b[1;32m----> 4\u001b[0m         df[col] \u001b[38;5;241m=\u001b[39m \u001b[43mpdf\u001b[49m\u001b[38;5;241m.\u001b[39mto_numeric(df[col], errors\u001b[38;5;241m=\u001b[39m\u001b[38;5;124m'\u001b[39m\u001b[38;5;124mcoerce\u001b[39m\u001b[38;5;124m'\u001b[39m)\n\u001b[0;32m      6\u001b[0m         df[\u001b[38;5;124m'\u001b[39m\u001b[38;5;124mFecha\u001b[39m\u001b[38;5;124m'\u001b[39m] \u001b[38;5;241m=\u001b[39m (pdf)\u001b[38;5;241m.\u001b[39mto_datetime(df[\u001b[38;5;124m'\u001b[39m\u001b[38;5;124mFecha\u001b[39m\u001b[38;5;124m'\u001b[39m],\u001b[38;5;28mformat\u001b[39m \u001b[38;5;241m=\u001b[39m \u001b[38;5;124m'\u001b[39m\u001b[38;5;132;01m%d\u001b[39;00m\u001b[38;5;124m/\u001b[39m\u001b[38;5;124m%\u001b[39m\u001b[38;5;124mm/\u001b[39m\u001b[38;5;124m%\u001b[39m\u001b[38;5;124mY\u001b[39m\u001b[38;5;124m'\u001b[39m)\n",
      "\u001b[1;31mNameError\u001b[0m: name 'pdf' is not defined"
     ]
    }
   ],
   "source": [
    "df.replace(-99,np.nan,inplace=True)\n",
    "\n",
    "for col in df.columns[1:]:\n",
    "        df[col] = pdf.to_numeric(df[col], errors='coerce')\n",
    "\n",
    "        df['Fecha'] = (pdf).to_datetime(df['Fecha'],format = '%d/%m/%Y')\n"
   ]
  },
  {
   "cell_type": "code",
   "execution_count": null,
   "metadata": {},
   "outputs": [],
   "source": [
    "df['Fecha'] = df['Fecha'].dt.strftime('%d/%m/%Y')"
   ]
  },
  {
   "cell_type": "code",
   "execution_count": null,
   "metadata": {},
   "outputs": [],
   "source": [
    "df['Hora'] -= 1\n",
    "df['Fecha_Hora'] = pd.to_datetime(df['Fecha'] + \" \" + df['Hora'].astype(str) + ':00:00')"
   ]
  },
  {
   "cell_type": "code",
   "execution_count": null,
   "metadata": {},
   "outputs": [
    {
     "ename": "",
     "evalue": "",
     "output_type": "error",
     "traceback": [
      "\u001b[1;31mFailed to start the Kernel. \n",
      "\u001b[1;31mUnable to start Kernel 'base (Python 3.12.4)' due to a timeout waiting for the ports to get used. \n",
      "\u001b[1;31mView Jupyter <a href='command:jupyter.viewOutput'>log</a> for further details."
     ]
    }
   ],
   "source": [
    "df.set_index('Fecha_Hora',inplace = True)"
   ]
  },
  {
   "cell_type": "code",
   "execution_count": null,
   "metadata": {},
   "outputs": [],
   "source": [
    "df.head()"
   ]
  },
  {
   "cell_type": "code",
   "execution_count": null,
   "metadata": {},
   "outputs": [],
   "source": [
    "df.sort_index(inplace=True,ascending=True)"
   ]
  },
  {
   "cell_type": "code",
   "execution_count": null,
   "metadata": {},
   "outputs": [],
   "source": [
    "short_name = {\n",
    "    'Noroeste PM10' : 'NO-PM10',\n",
    "    'Noroeste monóxido de carbono' : 'NO-CO',\n",
    "    'Noroeste PM10' : 'NE -PM10',\n",
    "    'Noroeste monóxido de carbono' : 'NE-CO',\n",
    "    'Centro PM10' : 'CE.-PM10'\n",
    "    'Centro monóxio de carbono': 'CE-CO'\n",
    "    'Suroete PM10' : 'SO-PM10',\n",
    "    'Suroeste monóxido de carbono' : 'SO-CO',\n",
    "    'Sureste PM10': 'SE-PM10',\n",
    "    'Sureste monóxido de carbono': 'SE-CO'\n",
    "\n",
    "df.rename(columns =short_name,inplace=True)\n",
    "}"
   ]
  },
  {
   "cell_type": "code",
   "execution_count": null,
   "metadata": {},
   "outputs": [],
   "source": [
    "nulos_por_año = df.isnull()groupby(df.index.year).sum()"
   ]
  },
  {
   "cell_type": "code",
   "execution_count": null,
   "metadata": {},
   "outputs": [],
   "source": [
    "nulos_por_año"
   ]
  },
  {
   "cell_type": "code",
   "execution_count": null,
   "metadata": {},
   "outputs": [],
   "source": [
    "nulos_por_mes = df.isnull()groupby([df.index.year,df.index.month]).sum()"
   ]
  },
  {
   "cell_type": "code",
   "execution_count": null,
   "metadata": {},
   "outputs": [],
   "source": [
    "nulos_por_mes"
   ]
  },
  {
   "cell_type": "code",
   "execution_count": null,
   "metadata": {},
   "outputs": [],
   "source": [
    "nulos_por_mes.loc[2024]"
   ]
  },
  {
   "cell_type": "code",
   "execution_count": null,
   "metadata": {},
   "outputs": [],
   "source": [
    "%pip install missingno"
   ]
  },
  {
   "cell_type": "code",
   "execution_count": null,
   "metadata": {},
   "outputs": [],
   "source": [
    "import missingno as msno"
   ]
  },
  {
   "cell_type": "code",
   "execution_count": null,
   "metadata": {},
   "outputs": [],
   "source": [
    "msno.matrix.(df)"
   ]
  },
  {
   "cell_type": "code",
   "execution_count": null,
   "metadata": {},
   "outputs": [],
   "source": [
    "plt.scatter(df.index,df['Noroeste PM10'])"
   ]
  },
  {
   "cell_type": "code",
   "execution_count": null,
   "metadata": {},
   "outputs": [],
   "source": [
    "def plot_time_Series(df,variable,zones,ylabel,titlle, star_dato=None, end_dat=None):\n",
    "    plt.figure(figsize=(15,5))\n",
    "    if start_date and end_date:\n",
    "        df=df.lc[start_date:end_date]\n",
    "    \n",
    "    for zone in zones:\n",
    "        column = f\"{zone}-{variable}\"\n",
    "        if column in df.coolumns:\n",
    "            plt.plot(df.index, df[column], label=column)\n",
    "        else:\n",
    "            orint(f\"Columna{column} no encontrada en el DataFrame\")\n",
    "    plt.xlabel('Fecha_Hora')\n",
    "    plt.ylabel(ylabel)\n",
    "    plt.title(title)\n",
    "    plt.legend()\n",
    "    plt.show()"
   ]
  },
  {
   "cell_type": "code",
   "execution_count": null,
   "metadata": {},
   "outputs": [],
   "source": [
    "plot_time_series(df,'PM10',['NO','CE','NE'],'indice(PM10)','Serie de Tiempo', star_date='2016-01-01',end_date='2018-12-30')"
   ]
  }
 ],
 "metadata": {
  "kernelspec": {
   "display_name": "Diplomado",
   "language": "python",
   "name": "python3"
  },
  "language_info": {
   "codemirror_mode": {
    "name": "ipython",
    "version": 3
   },
   "file_extension": ".py",
   "mimetype": "text/x-python",
   "name": "python",
   "nbconvert_exporter": "python",
   "pygments_lexer": "ipython3",
   "version": "3.10.14"
  }
 },
 "nbformat": 4,
 "nbformat_minor": 2
}
