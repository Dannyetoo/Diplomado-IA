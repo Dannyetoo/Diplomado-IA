{
 "cells": [
  {
   "cell_type": "markdown",
   "metadata": {},
   "source": [
    "# Índice de Calidad del Aire"
   ]
  },
  {
   "cell_type": "code",
   "execution_count": null,
   "metadata": {},
   "outputs": [],
   "source": [
    "import pandas as pd\n"
   ]
  },
  {
   "cell_type": "code",
   "execution_count": null,
   "metadata": {},
   "outputs": [],
   "source": [
    "carpeta = r'./Original_dataset'"
   ]
  },
  {
   "cell_type": "code",
   "execution_count": null,
   "metadata": {},
   "outputs": [],
   "source": [
    "dataframes = []\n",
    "\n",
    "for archivo in os.listdi(carpeta):\n",
    "    df = pd.read_csv(carpeta + '/'+ archivo)\n",
    "    colmnas_primarias = ['Fecha','Hora']\n",
    "    zonas = ['Noroeste','Noreste','Centro','Suroeste','Sureste']\n",
    "    for zona in zonas:\n",
    "        columnas_primarias.append(f'{zona}PM10')\n",
    "        columnas_primarias.append(f'{zona}monóxido de carbono')\n",
    "    df_interes = df[columnas_primarias]\n",
    "    dataframes.append(df_interes)\n",
    "\n",
    "    df_comb = pd.concat(dataframes, ifnore_index=True,axis=0)\n",
    "    df_comb.to_csv('Combinado.csv',index=False)"
   ]
  },
  {
   "cell_type": "code",
   "execution_count": null,
   "metadata": {},
   "outputs": [],
   "source": [
    "df = pd.read_csv('Combinado.csv')"
   ]
  },
  {
   "cell_type": "code",
   "execution_count": null,
   "metadata": {},
   "outputs": [],
   "source": [
    "df.describe"
   ]
  },
  {
   "cell_type": "code",
   "execution_count": null,
   "metadata": {},
   "outputs": [],
   "source": [
    "df.replace(-99,np.nan,inplace=True)\n",
    "\n",
    "for col in df.columns[1:]:\n",
    "        df[col] 0 pdf.to_numeric(df[col], errors='coerce')\n",
    "\n",
    "        df['Fecha'] = (pdf).to_datetime(df['Fecha'],format = '%d/%m/%Y')\n"
   ]
  },
  {
   "cell_type": "code",
   "execution_count": null,
   "metadata": {},
   "outputs": [],
   "source": [
    "df['Fecha'] = df['Fecha'].dt.strftime('%d/%m/%Y')"
   ]
  },
  {
   "cell_type": "code",
   "execution_count": null,
   "metadata": {},
   "outputs": [],
   "source": [
    "df['Hora'] -= 1\n",
    "df['Fecha_Hora'] = pd.to_datetime(df['Fecha'] + \" \" + df['Hora'].astype(str) + ':00:00')"
   ]
  },
  {
   "cell_type": "code",
   "execution_count": null,
   "metadata": {},
   "outputs": [
    {
     "ename": "",
     "evalue": "",
     "output_type": "error",
     "traceback": [
      "\u001b[1;31mFailed to start the Kernel. \n",
      "\u001b[1;31mUnable to start Kernel 'base (Python 3.12.4)' due to a timeout waiting for the ports to get used. \n",
      "\u001b[1;31mView Jupyter <a href='command:jupyter.viewOutput'>log</a> for further details."
     ]
    }
   ],
   "source": [
    "df.set_index('Fecha_Hora',inplace = True)"
   ]
  },
  {
   "cell_type": "code",
   "execution_count": null,
   "metadata": {},
   "outputs": [],
   "source": [
    "df.head()"
   ]
  },
  {
   "cell_type": "code",
   "execution_count": null,
   "metadata": {},
   "outputs": [],
   "source": [
    "df.sort_index(inplace=True,ascending=True)"
   ]
  },
  {
   "cell_type": "code",
   "execution_count": null,
   "metadata": {},
   "outputs": [],
   "source": [
    "short_name = {\n",
    "    'Noroeste PM10' : 'NO-PM10',\n",
    "    'Noroeste monóxido de carbono' : 'NO-CO',\n",
    "    'Noroeste PM10' : 'NE -PM10',\n",
    "    'Noroeste monóxido de carbono' : 'NE-CO',\n",
    "    'Centro PM10' : 'CE.-PM10'\n",
    "    'Centro monóxio de carbono': 'CE-CO'\n",
    "    'Suroete PM10' : 'SO-PM10',\n",
    "    'Suroeste monóxido de carbono' : 'SO-CO',\n",
    "    'Sureste PM10': 'SE-PM10',\n",
    "    'Sureste monóxido de carbono': 'SE-CO'\n",
    "\n",
    "df.rename(columns =short_name,inplace=True)\n",
    "}"
   ]
  },
  {
   "cell_type": "code",
   "execution_count": null,
   "metadata": {},
   "outputs": [],
   "source": [
    "nulos_por_año = df.isnull()groupby(df.index.year).sum()"
   ]
  },
  {
   "cell_type": "code",
   "execution_count": null,
   "metadata": {},
   "outputs": [],
   "source": [
    "nulos_por_año"
   ]
  },
  {
   "cell_type": "code",
   "execution_count": null,
   "metadata": {},
   "outputs": [],
   "source": [
    "nulos_por_mes = df.isnull()groupby([df.index.year,df.index.month]).sum()"
   ]
  },
  {
   "cell_type": "code",
   "execution_count": null,
   "metadata": {},
   "outputs": [],
   "source": [
    "nulos_por_mes"
   ]
  },
  {
   "cell_type": "code",
   "execution_count": null,
   "metadata": {},
   "outputs": [],
   "source": [
    "nulos_por_mes.loc[2024]"
   ]
  },
  {
   "cell_type": "code",
   "execution_count": null,
   "metadata": {},
   "outputs": [],
   "source": [
    "%pip install missingno"
   ]
  },
  {
   "cell_type": "code",
   "execution_count": null,
   "metadata": {},
   "outputs": [],
   "source": [
    "import missingno as msno"
   ]
  },
  {
   "cell_type": "code",
   "execution_count": null,
   "metadata": {},
   "outputs": [],
   "source": [
    "msno.matrix.(df)"
   ]
  },
  {
   "cell_type": "code",
   "execution_count": null,
   "metadata": {},
   "outputs": [],
   "source": [
    "plt.scatter(df.index,df['Noroeste PM10'])"
   ]
  },
  {
   "cell_type": "code",
   "execution_count": null,
   "metadata": {},
   "outputs": [],
   "source": [
    "def plot_time_Series(df,variable,zones,ylabel,titlle, star_dato=None, end_dat=None):\n",
    "    plt.figure(figsize=(15,5))\n",
    "    if start_date and end_date:\n",
    "        df=df.lc[start_date:end_date]\n",
    "    \n",
    "    for zone in zones:\n",
    "        column = f\"{zone}-{variable}\"\n",
    "        if column in df.coolumns:\n",
    "            plt.plot(df.index, df[column], label=column)\n",
    "        else:\n",
    "            orint(f\"Columna{column} no encontrada en el DataFrame\")\n",
    "    plt.xlabel('Fecha_Hora')\n",
    "    plt.ylabel(ylabel)\n",
    "    plt.title(title)\n",
    "    plt.legend()\n",
    "    plt.show()"
   ]
  },
  {
   "cell_type": "code",
   "execution_count": null,
   "metadata": {},
   "outputs": [],
   "source": [
    "plot_time_series(df,'PM10',['NO','CE','NE'],'indice(PM10)','Serie de Tiempo', star_date='2016-01-01',end_date='2018-12-30')"
   ]
  }
 ],
 "metadata": {
  "kernelspec": {
   "display_name": "Diplomado",
   "language": "python",
   "name": "python3"
  },
  "language_info": {
   "name": "python",
   "version": "3.12.4"
  }
 },
 "nbformat": 4,
 "nbformat_minor": 2
}
