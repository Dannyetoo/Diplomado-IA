{
 "cells": [
  {
   "cell_type": "code",
   "execution_count": 1,
   "metadata": {},
   "outputs": [],
   "source": [
    "import pandas as pd \n",
    "import numpy as np\n",
    "import matplotlib.pyplot as plt\n",
    "from sklearn.experimental import enable_iterative_imputer\n",
    "from sklearn.impute import SimpleImputer, KNNImputer, IterativeImputer"
   ]
  },
  {
   "cell_type": "code",
   "execution_count": 2,
   "metadata": {},
   "outputs": [],
   "source": [
    "# Crear un DataFrame  de ejemplo con valores faltantes\n",
    "\n",
    "#np.random.seed(45)\n",
    "\n",
    "data_complex = pd.DataFrame({\n",
    "    'A': np.random.normal(loc=0, scale=1, size=100), #Distribución normal\n",
    "    'B': np.random.gamma(shape=2, scale=1.0, size=100), #Distribución gamma\n",
    "    'C': np.random.exponential(scale=1.0,size=100) # Distribución exponencial\n",
    "    \n",
    "})  \n",
    "\n",
    "perc = 5\n",
    "\n",
    "#Introducir valores faltantes\n",
    "nan_indices_complex = np.random.choice(data_complex.index, size=perc, replace=False)\n",
    "data_complex.loc[nan_indices_complex, 'A'] = np.nan\n",
    "data_complex.loc[nan_indices_complex, 'B'] = np.nan\n",
    "data_complex.loc[nan_indices_complex, 'C'] = np.nan\n",
    "\n",
    "#Definir los imputadores\n",
    "mean_imputer = SimpleImputer(strategy='mean')\n",
    "median_imputer = SimpleImputer(strategy='median')\n",
    "knn_imputer = KNNImputer(n_neighbors=5)\n",
    "iterative_imputer = IterativeImputer(random_state=42)\n",
    "\n",
    "# Imputar los datos con diferentes técnicas\n",
    "data_complex_mean_imputed = pd.DataFrame(mean_imputer.fit_transform(data_complex), columns=data_complex.columns)\n",
    "data_complex_median_imputed = pd.DataFrame(mean_imputer.fit_transform(data_complex), columns=data_complex.columns)\n",
    "data_complex_knn_imputed = pd.DataFrame(mean_imputer.fit_transform(data_complex), columns=data_complex.columns)\n"
   ]
  }
 ],
 "metadata": {
  "kernelspec": {
   "display_name": "Diplomado",
   "language": "python",
   "name": "python3"
  },
  "language_info": {
   "codemirror_mode": {
    "name": "ipython",
    "version": 3
   },
   "file_extension": ".py",
   "mimetype": "text/x-python",
   "name": "python",
   "nbconvert_exporter": "python",
   "pygments_lexer": "ipython3",
   "version": "3.10.14"
  }
 },
 "nbformat": 4,
 "nbformat_minor": 2
}
