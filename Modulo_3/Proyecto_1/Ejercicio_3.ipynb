{
 "cells": [
  {
   "cell_type": "markdown",
   "metadata": {},
   "source": [
    "# Ejercicio 3"
   ]
  },
  {
   "cell_type": "markdown",
   "metadata": {},
   "source": [
    "Tomar 3 variables y determina si existen datos atípicos"
   ]
  },
  {
   "cell_type": "code",
   "execution_count": null,
   "metadata": {},
   "outputs": [],
   "source": [
    "import numpy as np\n",
    "import pandas as pd\n",
    "import matplotlib.pyplot as plt\n",
    "\n",
    "df_test = df_clean.copy()\n",
    "\n",
    "\n",
    "def add_outliers_and_calculate_limits(df, column):\n",
    "    # Calcular IQR para la columna\n",
    "    Q1 = df[column].quantile(0.25)\n",
    "    Q3 = df[column].quantile(0.75)\n",
    "    IQR = Q3 - Q1\n",
    "\n",
    "    \n",
    "    indices = np.random.choice(df.index, 2, replace=False)\n",
    "\n",
    "    \n",
    "    df.loc[indices[0], column] += 3 * IQR\n",
    "    df.loc[indices[1], column] += 3 * IQR\n",
    "\n",
    "    \n",
    "    limite_inferior = Q1 - 1.5 * IQR\n",
    "    limite_superior = Q3 + 1.5 * IQR\n",
    "\n",
    "    \n",
    "    print(f\"{column} - Lower limit: {limite_inferior}, Upper limit: {limite_superior}\")\n",
    "\n",
    "\n",
    "# Add outliers and calculate limits for 'EmployeeNumber'\n",
    "add_outliers_and_calculate_limits(df_test, 'EmployeeNumber')\n",
    "plt.figure()\n",
    "df_test.boxplot(column='EmployeeNumber')\n",
    "plt.title('Boxplot of EmployeeNumber')\n",
    "plt.show()\n",
    "\n",
    "# Add outliers and calculate limits for 'DistanceFromHome'\n",
    "add_outliers_and_calculate_limits(df_test, 'DistanceFromHome')\n",
    "plt.figure()\n",
    "df_test.boxplot(column='DistanceFromHome')\n",
    "plt.title('Boxplot of DistanceFromHome')\n",
    "plt.show()\n",
    "\n",
    "# Add outliers and calculate limits for 'NumCompaniesWorked'\n",
    "add_outliers_and_calculate_limits(df_test, 'NumCompaniesWorked')\n",
    "plt.figure()\n",
    "df_test.boxplot(column='NumCompaniesWorked')\n",
    "plt.title('Boxplot of NumCompaniesWorked')\n",
    "plt.show()"
   ]
  }
 ],
 "metadata": {
  "language_info": {
   "name": "python"
  }
 },
 "nbformat": 4,
 "nbformat_minor": 2
}
