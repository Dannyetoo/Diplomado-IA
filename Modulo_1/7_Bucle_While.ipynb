{
 "cells": [
  {
   "cell_type": "markdown",
   "metadata": {},
   "source": [
    "## La sentencia while"
   ]
  },
  {
   "cell_type": "code",
   "execution_count": null,
   "metadata": {},
   "outputs": [],
   "source": [
    "stop_word = 's'\n",
    "while stop_word == 's':\n",
    "    print('Hola que tal!!')\n",
    "    stop_word = input('Quiere otro saludo? [S, N]')\n",
    "print('Que tenga buen día')"
   ]
  },
  {
   "cell_type": "code",
   "execution_count": null,
   "metadata": {},
   "outputs": [],
   "source": [
    "while True:\n",
    "    print('Hola')\n",
    "    break"
   ]
  },
  {
   "cell_type": "code",
   "execution_count": 15,
   "metadata": {},
   "outputs": [
    {
     "name": "stdout",
     "output_type": "stream",
     "text": [
      "Que tenga un buen día\n"
     ]
    }
   ],
   "source": [
    "stop_Word = 's'\n",
    "MAX_REP = 3\n",
    "n_Rep = 0\n",
    "while stop_word == 's':\n",
    "    print('Hola que tal!!')\n",
    "    stop_word = input('Quiere otro saludo? [s,n]')\n",
    "    n_rep =n_rep + 1\n",
    "    if n_rep == MAX_REP:\n",
    "        break\n",
    "print('Que tenga un buen día')"
   ]
  },
  {
   "cell_type": "code",
   "execution_count": 17,
   "metadata": {},
   "outputs": [],
   "source": [
    "stop_Word = 's'\n",
    "MAX_REP = 3\n",
    "n_Rep = 0\n",
    "while stop_word == 's':\n",
    "    print('Hola que tal!!')\n",
    "    stop_word = input('Quiere otro saludo? [s,n]')\n",
    "    n_rep += 1\n",
    "    if n_rep > MAX_REP:\n",
    "        continue \n",
    "    print('Que tenga un buen día')"
   ]
  },
  {
   "cell_type": "markdown",
   "metadata": {},
   "source": [
    "## Operadores de asignación"
   ]
  },
  {
   "cell_type": "code",
   "execution_count": null,
   "metadata": {},
   "outputs": [],
   "source": [
    "stop_Word = 's'\n",
    "MAX_REP = 3\n",
    "n_Rep = 0\n",
    "while stop_word == 's':\n",
    "    print('Hola que tal!!')\n",
    "    stop_word = input('Quiere otro saludo? [s,n]')\n",
    "    n_rep += 1\n",
    "    if n_rep == MAX_REP:\n",
    "        break\n",
    "print('Que tenga un buen día')"
   ]
  },
  {
   "cell_type": "code",
   "execution_count": null,
   "metadata": {},
   "outputs": [],
   "source": [
    "stop_Word = 's'\n",
    "MAX_REP = 3\n",
    "n_Rep = 0\n",
    "while stop_word == 's':\n",
    "    print('Hola que tal!!')\n",
    "    stop_word = input('Quiere otro saludo? [s,n]')\n",
    "    n_rep = 1\n",
    "    if n_rep == 0:\n",
    "        break\n",
    "print('Que tenga un buen día')"
   ]
  }
 ],
 "metadata": {
  "kernelspec": {
   "display_name": "Diplomado",
   "language": "python",
   "name": "python3"
  },
  "language_info": {
   "codemirror_mode": {
    "name": "ipython",
    "version": 3
   },
   "file_extension": ".py",
   "mimetype": "text/x-python",
   "name": "python",
   "nbconvert_exporter": "python",
   "pygments_lexer": "ipython3",
   "version": "3.10.14"
  }
 },
 "nbformat": 4,
 "nbformat_minor": 2
}
